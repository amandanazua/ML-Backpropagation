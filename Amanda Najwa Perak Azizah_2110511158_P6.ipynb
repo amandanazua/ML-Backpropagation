{
  "nbformat": 4,
  "nbformat_minor": 0,
  "metadata": {
    "colab": {
      "provenance": []
    },
    "kernelspec": {
      "name": "python3",
      "display_name": "Python 3"
    },
    "language_info": {
      "name": "python"
    }
  },
  "cells": [
    {
      "cell_type": "markdown",
      "source": [
        "# **Tugas Praktikum Pembelajaran Mesin**\n",
        "\n",
        "---\n",
        "\n",
        "Nama: Amanda Najwa Perak Azizah\n",
        "\n",
        "NIM: 2110511158\n",
        "\n",
        "Kelas: C"
      ],
      "metadata": {
        "id": "roxCU0h1TIgL"
      }
    },
    {
      "cell_type": "markdown",
      "source": [
        "# **EVALUASI REGRESI**"
      ],
      "metadata": {
        "id": "fOwpCx8iOjMK"
      }
    },
    {
      "cell_type": "code",
      "execution_count": 1,
      "metadata": {
        "id": "ru-xB-L_LdO1"
      },
      "outputs": [],
      "source": [
        "#impor library yang diperlukan\n",
        "from sklearn.metrics import mean_absolute_error, mean_squared_error, r2_score\n",
        "from sklearn.model_selection import train_test_split\n",
        "from sklearn.linear_model import LinearRegression\n",
        "import pandas as pd"
      ]
    },
    {
      "cell_type": "markdown",
      "source": [
        "Kode tersebut mengimpor library `sklearn` untuk model regresi linear dan evaluasi (MAE, MSE, R^2), serta `pandas` untuk manipulasi data."
      ],
      "metadata": {
        "id": "vyoo6SVdUO5w"
      }
    },
    {
      "cell_type": "code",
      "source": [
        "dataset = pd.read_csv('Salary_Data.csv')\n",
        "X = dataset.iloc[:, :-1].values\n",
        "y = dataset.iloc[:, -1].values"
      ],
      "metadata": {
        "id": "FKpx5nWTMIHa"
      },
      "execution_count": 2,
      "outputs": []
    },
    {
      "cell_type": "markdown",
      "source": [
        "Kode ini membaca dataset dari file CSV, memisahkan fitur (X) dan target (y) dari data menggunakan pandas."
      ],
      "metadata": {
        "id": "BfYLUmpUUQ5k"
      }
    },
    {
      "cell_type": "code",
      "source": [
        "#Bagi data menjadi set pelatihan dan pengujian\n",
        "X_train, X_test, y_train, y_test = train_test_split(X, y, test_size=0.2, random_state=42)"
      ],
      "metadata": {
        "id": "3oNhhDXTMT1e"
      },
      "execution_count": 3,
      "outputs": []
    },
    {
      "cell_type": "markdown",
      "source": [
        "Kode ini menggunakan `train_test_split` dari scikit-learn untuk membagi data menjadi subset pelatihan (X_train, y_train) dan pengujian (X_test, y_test) dengan perbandingan 80-20% dan seed acak 42."
      ],
      "metadata": {
        "id": "DXSNXDqYUlW4"
      }
    },
    {
      "cell_type": "code",
      "source": [
        "#inisialisasi model regresi\n",
        "model = LinearRegression()"
      ],
      "metadata": {
        "id": "yTKfGDTJMkM-"
      },
      "execution_count": 4,
      "outputs": []
    },
    {
      "cell_type": "markdown",
      "source": [
        "Kode ini membuat model regresi linear dengan menginisialisasi objek `model` sebagai instance dari `LinearRegression` dari scikit-learn untuk digunakan dalam pelatihan dan prediksi."
      ],
      "metadata": {
        "id": "mGTg33rYUoxo"
      }
    },
    {
      "cell_type": "code",
      "source": [
        "#latih model pada data pelatihan\n",
        "model.fit(X_train, y_train)"
      ],
      "metadata": {
        "colab": {
          "base_uri": "https://localhost:8080/",
          "height": 75
        },
        "id": "1a7cmPYUMrfr",
        "outputId": "10da654c-df40-44b9-8bea-630bc76a8295"
      },
      "execution_count": 5,
      "outputs": [
        {
          "output_type": "execute_result",
          "data": {
            "text/plain": [
              "LinearRegression()"
            ],
            "text/html": [
              "<style>#sk-container-id-1 {color: black;background-color: white;}#sk-container-id-1 pre{padding: 0;}#sk-container-id-1 div.sk-toggleable {background-color: white;}#sk-container-id-1 label.sk-toggleable__label {cursor: pointer;display: block;width: 100%;margin-bottom: 0;padding: 0.3em;box-sizing: border-box;text-align: center;}#sk-container-id-1 label.sk-toggleable__label-arrow:before {content: \"▸\";float: left;margin-right: 0.25em;color: #696969;}#sk-container-id-1 label.sk-toggleable__label-arrow:hover:before {color: black;}#sk-container-id-1 div.sk-estimator:hover label.sk-toggleable__label-arrow:before {color: black;}#sk-container-id-1 div.sk-toggleable__content {max-height: 0;max-width: 0;overflow: hidden;text-align: left;background-color: #f0f8ff;}#sk-container-id-1 div.sk-toggleable__content pre {margin: 0.2em;color: black;border-radius: 0.25em;background-color: #f0f8ff;}#sk-container-id-1 input.sk-toggleable__control:checked~div.sk-toggleable__content {max-height: 200px;max-width: 100%;overflow: auto;}#sk-container-id-1 input.sk-toggleable__control:checked~label.sk-toggleable__label-arrow:before {content: \"▾\";}#sk-container-id-1 div.sk-estimator input.sk-toggleable__control:checked~label.sk-toggleable__label {background-color: #d4ebff;}#sk-container-id-1 div.sk-label input.sk-toggleable__control:checked~label.sk-toggleable__label {background-color: #d4ebff;}#sk-container-id-1 input.sk-hidden--visually {border: 0;clip: rect(1px 1px 1px 1px);clip: rect(1px, 1px, 1px, 1px);height: 1px;margin: -1px;overflow: hidden;padding: 0;position: absolute;width: 1px;}#sk-container-id-1 div.sk-estimator {font-family: monospace;background-color: #f0f8ff;border: 1px dotted black;border-radius: 0.25em;box-sizing: border-box;margin-bottom: 0.5em;}#sk-container-id-1 div.sk-estimator:hover {background-color: #d4ebff;}#sk-container-id-1 div.sk-parallel-item::after {content: \"\";width: 100%;border-bottom: 1px solid gray;flex-grow: 1;}#sk-container-id-1 div.sk-label:hover label.sk-toggleable__label {background-color: #d4ebff;}#sk-container-id-1 div.sk-serial::before {content: \"\";position: absolute;border-left: 1px solid gray;box-sizing: border-box;top: 0;bottom: 0;left: 50%;z-index: 0;}#sk-container-id-1 div.sk-serial {display: flex;flex-direction: column;align-items: center;background-color: white;padding-right: 0.2em;padding-left: 0.2em;position: relative;}#sk-container-id-1 div.sk-item {position: relative;z-index: 1;}#sk-container-id-1 div.sk-parallel {display: flex;align-items: stretch;justify-content: center;background-color: white;position: relative;}#sk-container-id-1 div.sk-item::before, #sk-container-id-1 div.sk-parallel-item::before {content: \"\";position: absolute;border-left: 1px solid gray;box-sizing: border-box;top: 0;bottom: 0;left: 50%;z-index: -1;}#sk-container-id-1 div.sk-parallel-item {display: flex;flex-direction: column;z-index: 1;position: relative;background-color: white;}#sk-container-id-1 div.sk-parallel-item:first-child::after {align-self: flex-end;width: 50%;}#sk-container-id-1 div.sk-parallel-item:last-child::after {align-self: flex-start;width: 50%;}#sk-container-id-1 div.sk-parallel-item:only-child::after {width: 0;}#sk-container-id-1 div.sk-dashed-wrapped {border: 1px dashed gray;margin: 0 0.4em 0.5em 0.4em;box-sizing: border-box;padding-bottom: 0.4em;background-color: white;}#sk-container-id-1 div.sk-label label {font-family: monospace;font-weight: bold;display: inline-block;line-height: 1.2em;}#sk-container-id-1 div.sk-label-container {text-align: center;}#sk-container-id-1 div.sk-container {/* jupyter's `normalize.less` sets `[hidden] { display: none; }` but bootstrap.min.css set `[hidden] { display: none !important; }` so we also need the `!important` here to be able to override the default hidden behavior on the sphinx rendered scikit-learn.org. See: https://github.com/scikit-learn/scikit-learn/issues/21755 */display: inline-block !important;position: relative;}#sk-container-id-1 div.sk-text-repr-fallback {display: none;}</style><div id=\"sk-container-id-1\" class=\"sk-top-container\"><div class=\"sk-text-repr-fallback\"><pre>LinearRegression()</pre><b>In a Jupyter environment, please rerun this cell to show the HTML representation or trust the notebook. <br />On GitHub, the HTML representation is unable to render, please try loading this page with nbviewer.org.</b></div><div class=\"sk-container\" hidden><div class=\"sk-item\"><div class=\"sk-estimator sk-toggleable\"><input class=\"sk-toggleable__control sk-hidden--visually\" id=\"sk-estimator-id-1\" type=\"checkbox\" checked><label for=\"sk-estimator-id-1\" class=\"sk-toggleable__label sk-toggleable__label-arrow\">LinearRegression</label><div class=\"sk-toggleable__content\"><pre>LinearRegression()</pre></div></div></div></div></div>"
            ]
          },
          "metadata": {},
          "execution_count": 5
        }
      ]
    },
    {
      "cell_type": "code",
      "source": [
        "#prediksi nilai\n",
        "y_pred = model.predict(X_test)"
      ],
      "metadata": {
        "id": "QfAEu5-nMxU1"
      },
      "execution_count": 6,
      "outputs": []
    },
    {
      "cell_type": "markdown",
      "source": [
        "Kode ini menggunakan model regresi yang telah dibuat sebelumnya (`model`) untuk melakukan prediksi (y_pred) berdasarkan data uji (X_test) dengan mengggunakan metode `predict` dari model regresi linear."
      ],
      "metadata": {
        "id": "CjLzm8RkU77b"
      }
    },
    {
      "cell_type": "code",
      "source": [
        "#evaluasi model menggunakan metrik regresi\n",
        "mae = mean_absolute_error(y_test, y_pred)\n",
        "mse = mean_squared_error(y_test, y_pred)\n",
        "rmse = mean_squared_error(y_test, y_pred, squared=False)\n",
        "r2 = r2_score(y_test, y_pred)"
      ],
      "metadata": {
        "id": "bmeRNiGqM-8l"
      },
      "execution_count": 7,
      "outputs": []
    },
    {
      "cell_type": "markdown",
      "source": [
        "Kode ini menghitung beberapa metrik evaluasi untuk model regresi linear. Ini mencakup Mean Absolute Error (mae), Mean Squared Error (mse), Root Mean Squared Error (rmse), dan R-squared (r2) antara nilai yang diprediksi (y_pred) dan nilai yang sebenarnya (y_test). Metrik-metrik ini digunakan untuk mengukur kinerja model."
      ],
      "metadata": {
        "id": "jpIbwdRvU9_i"
      }
    },
    {
      "cell_type": "code",
      "source": [
        "#tampilkan hasil evaluasi\n",
        "print('Mean Absolute Error (MAE):', mae)\n",
        "print('Mean Squared Error (MSE):', mse)\n",
        "print('Root Mean Squaded Error (RMSE):', rmse)\n",
        "print('R-squared (R2) Score:', r2)"
      ],
      "metadata": {
        "colab": {
          "base_uri": "https://localhost:8080/"
        },
        "id": "Ya_lKmZ2NYaT",
        "outputId": "b483e7e0-c5a4-4ccc-ac49-0b91f55fddd7"
      },
      "execution_count": 8,
      "outputs": [
        {
          "output_type": "stream",
          "name": "stdout",
          "text": [
            "Mean Absolute Error (MAE): 6286.453830757749\n",
            "Mean Squared Error (MSE): 49830096.85590839\n",
            "Root Mean Squaded Error (RMSE): 7059.04362190151\n",
            "R-squared (R2) Score: 0.9024461774180497\n"
          ]
        }
      ]
    },
    {
      "cell_type": "markdown",
      "source": [
        "Kode ini mencetak hasil evaluasi model regresi linear ke layar, termasuk MAE, MSE, RMSE, dan nilai R-squared (R2), memberikan gambaran tentang seberapa baik model memprediksi data uji."
      ],
      "metadata": {
        "id": "MrirIFxKVLX-"
      }
    },
    {
      "cell_type": "markdown",
      "source": [
        "# **EVALUASI KLASIFIKASI**"
      ],
      "metadata": {
        "id": "Wlk4AY86Oqad"
      }
    },
    {
      "cell_type": "code",
      "source": [
        "#impor library yang diperlukan\n",
        "from sklearn.metrics import accuracy_score, precision_score, recall_score, f1_score, confusion_matrix\n",
        "from sklearn.model_selection import train_test_split\n",
        "from sklearn.linear_model import LogisticRegression\n",
        "import pandas as pd"
      ],
      "metadata": {
        "id": "ZTPTgAyFOuDp"
      },
      "execution_count": 9,
      "outputs": []
    },
    {
      "cell_type": "markdown",
      "source": [
        "Kode tersebut mengimpor library yang diperlukan untuk pemodelan klasifikasi dengan menggunakan regresi logistik. Ini mencakup metrik evaluasi seperti akurasi, presisi, recall, F1-score, matriks kebingungan (confusion matrix), serta library pandas untuk manipulasi data."
      ],
      "metadata": {
        "id": "v8Io8r6IVOQ-"
      }
    },
    {
      "cell_type": "code",
      "source": [
        "dataset = pd.read_csv('Social_Network_Ads.csv')\n",
        "X = dataset.iloc[:, :-1].values\n",
        "y = dataset.iloc[:, -1].values"
      ],
      "metadata": {
        "id": "ZqimHmTWPI-W"
      },
      "execution_count": 10,
      "outputs": []
    },
    {
      "cell_type": "markdown",
      "source": [
        "Kode ini membaca dataset dari file CSV ('Social_Network_Ads.csv') menggunakan pandas, kemudian memisahkan fitur (X) dan target (y) dari dataset. Fitur (X) adalah semua kolom kecuali kolom terakhir, sedangkan target (y) adalah kolom terakhir."
      ],
      "metadata": {
        "id": "LP_7ZGHFVcQu"
      }
    },
    {
      "cell_type": "code",
      "source": [
        "#bagi data menjadi set pelatihan dan pengujian\n",
        "X_train, X_test, y_train, y_test = train_test_split(X, y, test_size=0.2, random_state=42)"
      ],
      "metadata": {
        "id": "at3dTQBjPVld"
      },
      "execution_count": 11,
      "outputs": []
    },
    {
      "cell_type": "markdown",
      "source": [
        "Kode ini menggunakan `train_test_split` dari scikit-learn untuk membagi dataset menjadi subset pelatihan (X_train, y_train) dan pengujian (X_test, y_test) dengan perbandingan 80-20% dan seed acak 42."
      ],
      "metadata": {
        "id": "1IOWE2pSVdm6"
      }
    },
    {
      "cell_type": "code",
      "source": [
        "#inisialisasi model klasifikasi\n",
        "model = LogisticRegression()"
      ],
      "metadata": {
        "id": "CT3C7I4HPjs5"
      },
      "execution_count": 12,
      "outputs": []
    },
    {
      "cell_type": "markdown",
      "source": [
        "Kode ini menginisialisasi model klasifikasi menggunakan regresi logistik dengan membuat objek `model` sebagai instance dari `LogisticRegression` dari scikit-learn. Model ini akan digunakan untuk pelatihan dan prediksi pada data."
      ],
      "metadata": {
        "id": "w73SMWYNVqMp"
      }
    },
    {
      "cell_type": "code",
      "source": [
        "#latih model pada data pelatihan\n",
        "model.fit(X_train, y_train)"
      ],
      "metadata": {
        "colab": {
          "base_uri": "https://localhost:8080/",
          "height": 75
        },
        "id": "KvpZp5EbPrrZ",
        "outputId": "21637b25-16ae-453f-9071-2260799eb50d"
      },
      "execution_count": 13,
      "outputs": [
        {
          "output_type": "execute_result",
          "data": {
            "text/plain": [
              "LogisticRegression()"
            ],
            "text/html": [
              "<style>#sk-container-id-2 {color: black;background-color: white;}#sk-container-id-2 pre{padding: 0;}#sk-container-id-2 div.sk-toggleable {background-color: white;}#sk-container-id-2 label.sk-toggleable__label {cursor: pointer;display: block;width: 100%;margin-bottom: 0;padding: 0.3em;box-sizing: border-box;text-align: center;}#sk-container-id-2 label.sk-toggleable__label-arrow:before {content: \"▸\";float: left;margin-right: 0.25em;color: #696969;}#sk-container-id-2 label.sk-toggleable__label-arrow:hover:before {color: black;}#sk-container-id-2 div.sk-estimator:hover label.sk-toggleable__label-arrow:before {color: black;}#sk-container-id-2 div.sk-toggleable__content {max-height: 0;max-width: 0;overflow: hidden;text-align: left;background-color: #f0f8ff;}#sk-container-id-2 div.sk-toggleable__content pre {margin: 0.2em;color: black;border-radius: 0.25em;background-color: #f0f8ff;}#sk-container-id-2 input.sk-toggleable__control:checked~div.sk-toggleable__content {max-height: 200px;max-width: 100%;overflow: auto;}#sk-container-id-2 input.sk-toggleable__control:checked~label.sk-toggleable__label-arrow:before {content: \"▾\";}#sk-container-id-2 div.sk-estimator input.sk-toggleable__control:checked~label.sk-toggleable__label {background-color: #d4ebff;}#sk-container-id-2 div.sk-label input.sk-toggleable__control:checked~label.sk-toggleable__label {background-color: #d4ebff;}#sk-container-id-2 input.sk-hidden--visually {border: 0;clip: rect(1px 1px 1px 1px);clip: rect(1px, 1px, 1px, 1px);height: 1px;margin: -1px;overflow: hidden;padding: 0;position: absolute;width: 1px;}#sk-container-id-2 div.sk-estimator {font-family: monospace;background-color: #f0f8ff;border: 1px dotted black;border-radius: 0.25em;box-sizing: border-box;margin-bottom: 0.5em;}#sk-container-id-2 div.sk-estimator:hover {background-color: #d4ebff;}#sk-container-id-2 div.sk-parallel-item::after {content: \"\";width: 100%;border-bottom: 1px solid gray;flex-grow: 1;}#sk-container-id-2 div.sk-label:hover label.sk-toggleable__label {background-color: #d4ebff;}#sk-container-id-2 div.sk-serial::before {content: \"\";position: absolute;border-left: 1px solid gray;box-sizing: border-box;top: 0;bottom: 0;left: 50%;z-index: 0;}#sk-container-id-2 div.sk-serial {display: flex;flex-direction: column;align-items: center;background-color: white;padding-right: 0.2em;padding-left: 0.2em;position: relative;}#sk-container-id-2 div.sk-item {position: relative;z-index: 1;}#sk-container-id-2 div.sk-parallel {display: flex;align-items: stretch;justify-content: center;background-color: white;position: relative;}#sk-container-id-2 div.sk-item::before, #sk-container-id-2 div.sk-parallel-item::before {content: \"\";position: absolute;border-left: 1px solid gray;box-sizing: border-box;top: 0;bottom: 0;left: 50%;z-index: -1;}#sk-container-id-2 div.sk-parallel-item {display: flex;flex-direction: column;z-index: 1;position: relative;background-color: white;}#sk-container-id-2 div.sk-parallel-item:first-child::after {align-self: flex-end;width: 50%;}#sk-container-id-2 div.sk-parallel-item:last-child::after {align-self: flex-start;width: 50%;}#sk-container-id-2 div.sk-parallel-item:only-child::after {width: 0;}#sk-container-id-2 div.sk-dashed-wrapped {border: 1px dashed gray;margin: 0 0.4em 0.5em 0.4em;box-sizing: border-box;padding-bottom: 0.4em;background-color: white;}#sk-container-id-2 div.sk-label label {font-family: monospace;font-weight: bold;display: inline-block;line-height: 1.2em;}#sk-container-id-2 div.sk-label-container {text-align: center;}#sk-container-id-2 div.sk-container {/* jupyter's `normalize.less` sets `[hidden] { display: none; }` but bootstrap.min.css set `[hidden] { display: none !important; }` so we also need the `!important` here to be able to override the default hidden behavior on the sphinx rendered scikit-learn.org. See: https://github.com/scikit-learn/scikit-learn/issues/21755 */display: inline-block !important;position: relative;}#sk-container-id-2 div.sk-text-repr-fallback {display: none;}</style><div id=\"sk-container-id-2\" class=\"sk-top-container\"><div class=\"sk-text-repr-fallback\"><pre>LogisticRegression()</pre><b>In a Jupyter environment, please rerun this cell to show the HTML representation or trust the notebook. <br />On GitHub, the HTML representation is unable to render, please try loading this page with nbviewer.org.</b></div><div class=\"sk-container\" hidden><div class=\"sk-item\"><div class=\"sk-estimator sk-toggleable\"><input class=\"sk-toggleable__control sk-hidden--visually\" id=\"sk-estimator-id-2\" type=\"checkbox\" checked><label for=\"sk-estimator-id-2\" class=\"sk-toggleable__label sk-toggleable__label-arrow\">LogisticRegression</label><div class=\"sk-toggleable__content\"><pre>LogisticRegression()</pre></div></div></div></div></div>"
            ]
          },
          "metadata": {},
          "execution_count": 13
        }
      ]
    },
    {
      "cell_type": "code",
      "source": [
        "#prediksi model\n",
        "y_pred = model.predict(X_test)"
      ],
      "metadata": {
        "id": "aAuMV7G2Pydo"
      },
      "execution_count": 14,
      "outputs": []
    },
    {
      "cell_type": "markdown",
      "source": [
        "Kode ini menggunakan model klasifikasi yang telah diinisialisasi sebelumnya (`model`) untuk melakukan prediksi pada data uji (X_test) dengan menggunakan metode `predict`. Hasil prediksi disimpan dalam variabel `y_pred`."
      ],
      "metadata": {
        "id": "qNAjUh-vVsw0"
      }
    },
    {
      "cell_type": "code",
      "source": [
        "#evaluasi model menggunakan metrik klasifikasi\n",
        "accuracy = accuracy_score(y_test, y_pred)\n",
        "precision = precision_score(y_test, y_pred)\n",
        "recall = recall_score(y_test, y_pred)\n",
        "f1 = f1_score(y_test, y_pred)\n",
        "conf_matrix = confusion_matrix(y_test, y_pred)"
      ],
      "metadata": {
        "colab": {
          "base_uri": "https://localhost:8080/"
        },
        "id": "ME7zS99WP4LC",
        "outputId": "9092f170-4f55-40d1-d174-8b63dffedbfc"
      },
      "execution_count": 15,
      "outputs": [
        {
          "output_type": "stream",
          "name": "stderr",
          "text": [
            "/usr/local/lib/python3.10/dist-packages/sklearn/metrics/_classification.py:1344: UndefinedMetricWarning: Precision is ill-defined and being set to 0.0 due to no predicted samples. Use `zero_division` parameter to control this behavior.\n",
            "  _warn_prf(average, modifier, msg_start, len(result))\n"
          ]
        }
      ]
    },
    {
      "cell_type": "markdown",
      "source": [
        "Kode ini menghitung beberapa metrik evaluasi untuk model klasifikasi. Ini mencakup akurasi (accuracy), presisi (precision), recall, nilai F1 (F1-score), dan matriks kebingungan (confusion matrix) antara hasil prediksi (y_pred) dan nilai sebenarnya (y_test). Metrik-metrik ini digunakan untuk mengukur kinerja model klasifikasi."
      ],
      "metadata": {
        "id": "p8zP2ebwV3iU"
      }
    },
    {
      "cell_type": "code",
      "source": [
        "#tampilkan hasil evaluasi\n",
        "print('Akurasi (Accuracy):', accuracy)\n",
        "print('Presisi (Precision):', precision)\n",
        "print('Recall:', recall)\n",
        "print('F1-Score:', f1)\n",
        "print('Confusion Matrix:\\n', conf_matrix)"
      ],
      "metadata": {
        "colab": {
          "base_uri": "https://localhost:8080/"
        },
        "id": "ZZk0W0gkQRi3",
        "outputId": "1ce586e0-9401-4ad2-a0ef-3991cd2f06c7"
      },
      "execution_count": 16,
      "outputs": [
        {
          "output_type": "stream",
          "name": "stdout",
          "text": [
            "Akurasi (Accuracy): 0.65\n",
            "Presisi (Precision): 0.0\n",
            "Recall: 0.0\n",
            "F1-Score: 0.0\n",
            "Confusion Matrix:\n",
            " [[52  0]\n",
            " [28  0]]\n"
          ]
        }
      ]
    },
    {
      "cell_type": "markdown",
      "source": [
        "Kode ini menghitung beberapa metrik evaluasi untuk model klasifikasi. Ini mencakup akurasi (accuracy), presisi (precision), recall, nilai F1 (F1-score), dan matriks kebingungan (confusion matrix) antara hasil prediksi (y_pred) dan nilai sebenarnya (y_test). Metrik-metrik ini digunakan untuk mengukur kinerja model klasifikasi."
      ],
      "metadata": {
        "id": "EKu2f-jWWF8d"
      }
    }
  ]
}